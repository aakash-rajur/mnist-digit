{
 "cells": [
  {
   "cell_type": "code",
   "execution_count": 1,
   "metadata": {},
   "outputs": [],
   "source": [
    "import sys\n",
    "from pathlib import Path"
   ]
  },
  {
   "cell_type": "code",
   "execution_count": 2,
   "metadata": {},
   "outputs": [],
   "source": [
    "project_directory = str(Path('../..').resolve())\n",
    "sys.path.extend([project_directory])"
   ]
  },
  {
   "cell_type": "code",
   "execution_count": 3,
   "metadata": {},
   "outputs": [],
   "source": [
    "from functools import partial\n",
    "from os import getcwd, path"
   ]
  },
  {
   "cell_type": "code",
   "execution_count": 4,
   "metadata": {},
   "outputs": [],
   "source": [
    "from environs import Env\n",
    "import pandas as pd"
   ]
  },
  {
   "cell_type": "code",
   "execution_count": 5,
   "metadata": {},
   "outputs": [],
   "source": [
    "from internal.extract_features.data_sources_factory import data_sources_factory\n",
    "from internal.extract_features.extract_features import extract_features\n",
    "from internal.extract_features.save_features import save_features\n",
    "from src.pkg.config_constants import PRECISION, OUTPUT\n",
    "from src.pkg.ensure_dir import ensure_dir\n",
    "from src.pkg.load_config import load_config\n",
    "from src.pkg.load_env import load_env\n",
    "from src.pkg.random_hash import generate_random_hash\n",
    "from src.pkg.run_process import run_process"
   ]
  },
  {
   "cell_type": "code",
   "execution_count": 6,
   "metadata": {},
   "outputs": [],
   "source": [
    "from IPython.display import display"
   ]
  },
  {
   "cell_type": "code",
   "execution_count": 7,
   "metadata": {},
   "outputs": [],
   "source": [
    "def get_precision(env: Env):\n",
    "    return env.int(PRECISION)"
   ]
  },
  {
   "cell_type": "code",
   "execution_count": 8,
   "metadata": {},
   "outputs": [],
   "source": [
    "cwd = getcwd()\n",
    "process_dir = cwd"
   ]
  },
  {
   "cell_type": "code",
   "execution_count": 10,
   "metadata": {},
   "outputs": [],
   "source": [
    "env = load_env(process_dir)\n",
    "config = load_config(process_dir, env)\n",
    "precision = get_precision(env)\n",
    "output_dir = ensure_dir(project_directory, config[OUTPUT])"
   ]
  },
  {
   "cell_type": "code",
   "execution_count": 11,
   "metadata": {},
   "outputs": [],
   "source": [
    "ds_factory = data_sources_factory(project_directory, precision)"
   ]
  },
  {
   "cell_type": "code",
   "execution_count": 12,
   "metadata": {},
   "outputs": [
    {
     "name": "stdout",
     "output_type": "stream",
     "text": [
      "PROCESSING DATA SOURCES FOR CHARACTER: 0\n"
     ]
    },
    {
     "name": "stderr",
     "output_type": "stream",
     "text": [
      "100%|██████████| 4132/4132 [00:26<00:00, 154.10it/s]\n"
     ]
    },
    {
     "name": "stdout",
     "output_type": "stream",
     "text": [
      "PROCESSING DATA SOURCES FOR CHARACTER: 1\n"
     ]
    },
    {
     "name": "stderr",
     "output_type": "stream",
     "text": [
      "100%|██████████| 4684/4684 [00:28<00:00, 162.46it/s]\n"
     ]
    },
    {
     "name": "stdout",
     "output_type": "stream",
     "text": [
      "PROCESSING DATA SOURCES FOR CHARACTER: 2\n"
     ]
    },
    {
     "name": "stderr",
     "output_type": "stream",
     "text": [
      "100%|██████████| 4177/4177 [00:27<00:00, 153.46it/s]\n"
     ]
    },
    {
     "name": "stdout",
     "output_type": "stream",
     "text": [
      "PROCESSING DATA SOURCES FOR CHARACTER: 3\n"
     ]
    },
    {
     "name": "stderr",
     "output_type": "stream",
     "text": [
      "100%|██████████| 4351/4351 [00:28<00:00, 155.31it/s]\n"
     ]
    },
    {
     "name": "stdout",
     "output_type": "stream",
     "text": [
      "PROCESSING DATA SOURCES FOR CHARACTER: 4\n"
     ]
    },
    {
     "name": "stderr",
     "output_type": "stream",
     "text": [
      "100%|██████████| 4072/4072 [00:26<00:00, 156.42it/s]\n"
     ]
    },
    {
     "name": "stdout",
     "output_type": "stream",
     "text": [
      "PROCESSING DATA SOURCES FOR CHARACTER: 5\n"
     ]
    },
    {
     "name": "stderr",
     "output_type": "stream",
     "text": [
      "100%|██████████| 3795/3795 [00:23<00:00, 158.28it/s]\n"
     ]
    },
    {
     "name": "stdout",
     "output_type": "stream",
     "text": [
      "PROCESSING DATA SOURCES FOR CHARACTER: 6\n"
     ]
    },
    {
     "name": "stderr",
     "output_type": "stream",
     "text": [
      "100%|██████████| 4137/4137 [00:26<00:00, 154.96it/s]\n"
     ]
    },
    {
     "name": "stdout",
     "output_type": "stream",
     "text": [
      "PROCESSING DATA SOURCES FOR CHARACTER: 7\n"
     ]
    },
    {
     "name": "stderr",
     "output_type": "stream",
     "text": [
      "100%|██████████| 4401/4401 [00:27<00:00, 157.66it/s]\n"
     ]
    },
    {
     "name": "stdout",
     "output_type": "stream",
     "text": [
      "PROCESSING DATA SOURCES FOR CHARACTER: 8\n"
     ]
    },
    {
     "name": "stderr",
     "output_type": "stream",
     "text": [
      "100%|██████████| 4063/4063 [00:27<00:00, 148.71it/s]\n"
     ]
    },
    {
     "name": "stdout",
     "output_type": "stream",
     "text": [
      "PROCESSING DATA SOURCES FOR CHARACTER: 9\n"
     ]
    },
    {
     "name": "stderr",
     "output_type": "stream",
     "text": [
      "100%|██████████| 4188/4188 [00:25<00:00, 161.51it/s]\n"
     ]
    },
    {
     "data": {
      "text/html": [
       "<div>\n",
       "<style scoped>\n",
       "    .dataframe tbody tr th:only-of-type {\n",
       "        vertical-align: middle;\n",
       "    }\n",
       "\n",
       "    .dataframe tbody tr th {\n",
       "        vertical-align: top;\n",
       "    }\n",
       "\n",
       "    .dataframe thead th {\n",
       "        text-align: right;\n",
       "    }\n",
       "</style>\n",
       "<table border=\"1\" class=\"dataframe\">\n",
       "  <thead>\n",
       "    <tr style=\"text-align: right;\">\n",
       "      <th></th>\n",
       "      <th>0</th>\n",
       "      <th>1</th>\n",
       "      <th>2</th>\n",
       "      <th>3</th>\n",
       "      <th>4</th>\n",
       "      <th>5</th>\n",
       "      <th>6</th>\n",
       "      <th>7</th>\n",
       "      <th>8</th>\n",
       "      <th>9</th>\n",
       "      <th>10</th>\n",
       "      <th>11</th>\n",
       "      <th>12</th>\n",
       "      <th>13</th>\n",
       "      <th>CHARACTER</th>\n",
       "    </tr>\n",
       "  </thead>\n",
       "  <tbody>\n",
       "    <tr>\n",
       "      <td>0</td>\n",
       "      <td>1.000000</td>\n",
       "      <td>-0.265904</td>\n",
       "      <td>-0.696006</td>\n",
       "      <td>0.694099</td>\n",
       "      <td>-0.920006</td>\n",
       "      <td>0.022097</td>\n",
       "      <td>0.558399</td>\n",
       "      <td>-0.694705</td>\n",
       "      <td>0.647999</td>\n",
       "      <td>0.358098</td>\n",
       "      <td>-0.024003</td>\n",
       "      <td>0.694099</td>\n",
       "      <td>-0.285338</td>\n",
       "      <td>-0.425905</td>\n",
       "      <td>0</td>\n",
       "    </tr>\n",
       "    <tr>\n",
       "      <td>1</td>\n",
       "      <td>-0.521069</td>\n",
       "      <td>0.945655</td>\n",
       "      <td>0.191459</td>\n",
       "      <td>1.000000</td>\n",
       "      <td>-0.963883</td>\n",
       "      <td>-0.106028</td>\n",
       "      <td>0.351140</td>\n",
       "      <td>-0.798764</td>\n",
       "      <td>-0.479555</td>\n",
       "      <td>-0.669610</td>\n",
       "      <td>0.621190</td>\n",
       "      <td>0.492777</td>\n",
       "      <td>0.762085</td>\n",
       "      <td>-0.141252</td>\n",
       "      <td>0</td>\n",
       "    </tr>\n",
       "    <tr>\n",
       "      <td>2</td>\n",
       "      <td>-1.000000</td>\n",
       "      <td>0.003940</td>\n",
       "      <td>0.823674</td>\n",
       "      <td>-0.379992</td>\n",
       "      <td>0.851098</td>\n",
       "      <td>0.278176</td>\n",
       "      <td>0.220353</td>\n",
       "      <td>0.826650</td>\n",
       "      <td>-0.584074</td>\n",
       "      <td>0.547842</td>\n",
       "      <td>-0.584074</td>\n",
       "      <td>-0.401321</td>\n",
       "      <td>0.183789</td>\n",
       "      <td>-0.593287</td>\n",
       "      <td>0</td>\n",
       "    </tr>\n",
       "    <tr>\n",
       "      <td>3</td>\n",
       "      <td>1.000000</td>\n",
       "      <td>-0.495024</td>\n",
       "      <td>-0.771234</td>\n",
       "      <td>0.787594</td>\n",
       "      <td>-0.991112</td>\n",
       "      <td>-0.116347</td>\n",
       "      <td>0.210440</td>\n",
       "      <td>0.974156</td>\n",
       "      <td>0.340368</td>\n",
       "      <td>-0.934779</td>\n",
       "      <td>-0.484172</td>\n",
       "      <td>-0.797356</td>\n",
       "      <td>0.827239</td>\n",
       "      <td>0.337369</td>\n",
       "      <td>0</td>\n",
       "    </tr>\n",
       "    <tr>\n",
       "      <td>4</td>\n",
       "      <td>0.395556</td>\n",
       "      <td>1.000000</td>\n",
       "      <td>0.853741</td>\n",
       "      <td>-0.652241</td>\n",
       "      <td>0.328738</td>\n",
       "      <td>-0.986334</td>\n",
       "      <td>-0.991280</td>\n",
       "      <td>0.001927</td>\n",
       "      <td>-0.403567</td>\n",
       "      <td>0.805619</td>\n",
       "      <td>-0.511557</td>\n",
       "      <td>-0.679239</td>\n",
       "      <td>0.811317</td>\n",
       "      <td>0.157681</td>\n",
       "      <td>0</td>\n",
       "    </tr>\n",
       "    <tr>\n",
       "      <td>...</td>\n",
       "      <td>...</td>\n",
       "      <td>...</td>\n",
       "      <td>...</td>\n",
       "      <td>...</td>\n",
       "      <td>...</td>\n",
       "      <td>...</td>\n",
       "      <td>...</td>\n",
       "      <td>...</td>\n",
       "      <td>...</td>\n",
       "      <td>...</td>\n",
       "      <td>...</td>\n",
       "      <td>...</td>\n",
       "      <td>...</td>\n",
       "      <td>...</td>\n",
       "      <td>...</td>\n",
       "    </tr>\n",
       "    <tr>\n",
       "      <td>4183</td>\n",
       "      <td>1.000000</td>\n",
       "      <td>0.773533</td>\n",
       "      <td>-0.274128</td>\n",
       "      <td>-0.970011</td>\n",
       "      <td>-0.736838</td>\n",
       "      <td>-0.460359</td>\n",
       "      <td>-0.736838</td>\n",
       "      <td>0.304118</td>\n",
       "      <td>0.128228</td>\n",
       "      <td>-0.601184</td>\n",
       "      <td>0.077933</td>\n",
       "      <td>0.580738</td>\n",
       "      <td>0.128228</td>\n",
       "      <td>-0.098239</td>\n",
       "      <td>9</td>\n",
       "    </tr>\n",
       "    <tr>\n",
       "      <td>4184</td>\n",
       "      <td>1.000000</td>\n",
       "      <td>0.538331</td>\n",
       "      <td>-0.565316</td>\n",
       "      <td>-0.766099</td>\n",
       "      <td>-0.833875</td>\n",
       "      <td>-0.148413</td>\n",
       "      <td>0.079226</td>\n",
       "      <td>-0.766099</td>\n",
       "      <td>0.294073</td>\n",
       "      <td>0.415561</td>\n",
       "      <td>-0.289083</td>\n",
       "      <td>0.384868</td>\n",
       "      <td>0.401497</td>\n",
       "      <td>-0.228981</td>\n",
       "      <td>9</td>\n",
       "    </tr>\n",
       "    <tr>\n",
       "      <td>4185</td>\n",
       "      <td>1.000000</td>\n",
       "      <td>0.579237</td>\n",
       "      <td>-0.924411</td>\n",
       "      <td>-0.034802</td>\n",
       "      <td>0.013528</td>\n",
       "      <td>-0.913659</td>\n",
       "      <td>-0.614226</td>\n",
       "      <td>-0.655172</td>\n",
       "      <td>-0.424317</td>\n",
       "      <td>0.515934</td>\n",
       "      <td>0.382796</td>\n",
       "      <td>-0.433611</td>\n",
       "      <td>0.227703</td>\n",
       "      <td>0.386162</td>\n",
       "      <td>9</td>\n",
       "    </tr>\n",
       "    <tr>\n",
       "      <td>4186</td>\n",
       "      <td>1.000000</td>\n",
       "      <td>0.436327</td>\n",
       "      <td>-0.456856</td>\n",
       "      <td>-0.632035</td>\n",
       "      <td>-0.728803</td>\n",
       "      <td>-0.185265</td>\n",
       "      <td>0.061137</td>\n",
       "      <td>-0.664409</td>\n",
       "      <td>-0.327358</td>\n",
       "      <td>0.468701</td>\n",
       "      <td>0.320134</td>\n",
       "      <td>0.436327</td>\n",
       "      <td>0.203585</td>\n",
       "      <td>-0.185265</td>\n",
       "      <td>9</td>\n",
       "    </tr>\n",
       "    <tr>\n",
       "      <td>4187</td>\n",
       "      <td>1.000000</td>\n",
       "      <td>0.361084</td>\n",
       "      <td>-0.714166</td>\n",
       "      <td>-0.093694</td>\n",
       "      <td>-0.352675</td>\n",
       "      <td>-0.536812</td>\n",
       "      <td>0.580204</td>\n",
       "      <td>0.133695</td>\n",
       "      <td>-0.031998</td>\n",
       "      <td>-0.478507</td>\n",
       "      <td>-0.419309</td>\n",
       "      <td>0.221152</td>\n",
       "      <td>0.055460</td>\n",
       "      <td>0.096213</td>\n",
       "      <td>9</td>\n",
       "    </tr>\n",
       "  </tbody>\n",
       "</table>\n",
       "<p>42000 rows × 15 columns</p>\n",
       "</div>"
      ],
      "text/plain": [
       "             0         1         2         3         4         5         6  \\\n",
       "0     1.000000 -0.265904 -0.696006  0.694099 -0.920006  0.022097  0.558399   \n",
       "1    -0.521069  0.945655  0.191459  1.000000 -0.963883 -0.106028  0.351140   \n",
       "2    -1.000000  0.003940  0.823674 -0.379992  0.851098  0.278176  0.220353   \n",
       "3     1.000000 -0.495024 -0.771234  0.787594 -0.991112 -0.116347  0.210440   \n",
       "4     0.395556  1.000000  0.853741 -0.652241  0.328738 -0.986334 -0.991280   \n",
       "...        ...       ...       ...       ...       ...       ...       ...   \n",
       "4183  1.000000  0.773533 -0.274128 -0.970011 -0.736838 -0.460359 -0.736838   \n",
       "4184  1.000000  0.538331 -0.565316 -0.766099 -0.833875 -0.148413  0.079226   \n",
       "4185  1.000000  0.579237 -0.924411 -0.034802  0.013528 -0.913659 -0.614226   \n",
       "4186  1.000000  0.436327 -0.456856 -0.632035 -0.728803 -0.185265  0.061137   \n",
       "4187  1.000000  0.361084 -0.714166 -0.093694 -0.352675 -0.536812  0.580204   \n",
       "\n",
       "             7         8         9        10        11        12        13  \\\n",
       "0    -0.694705  0.647999  0.358098 -0.024003  0.694099 -0.285338 -0.425905   \n",
       "1    -0.798764 -0.479555 -0.669610  0.621190  0.492777  0.762085 -0.141252   \n",
       "2     0.826650 -0.584074  0.547842 -0.584074 -0.401321  0.183789 -0.593287   \n",
       "3     0.974156  0.340368 -0.934779 -0.484172 -0.797356  0.827239  0.337369   \n",
       "4     0.001927 -0.403567  0.805619 -0.511557 -0.679239  0.811317  0.157681   \n",
       "...        ...       ...       ...       ...       ...       ...       ...   \n",
       "4183  0.304118  0.128228 -0.601184  0.077933  0.580738  0.128228 -0.098239   \n",
       "4184 -0.766099  0.294073  0.415561 -0.289083  0.384868  0.401497 -0.228981   \n",
       "4185 -0.655172 -0.424317  0.515934  0.382796 -0.433611  0.227703  0.386162   \n",
       "4186 -0.664409 -0.327358  0.468701  0.320134  0.436327  0.203585 -0.185265   \n",
       "4187  0.133695 -0.031998 -0.478507 -0.419309  0.221152  0.055460  0.096213   \n",
       "\n",
       "     CHARACTER  \n",
       "0            0  \n",
       "1            0  \n",
       "2            0  \n",
       "3            0  \n",
       "4            0  \n",
       "...        ...  \n",
       "4183         9  \n",
       "4184         9  \n",
       "4185         9  \n",
       "4186         9  \n",
       "4187         9  \n",
       "\n",
       "[42000 rows x 15 columns]"
      ]
     },
     "execution_count": 12,
     "metadata": {},
     "output_type": "execute_result"
    }
   ],
   "source": [
    "compiled = extract_features(\n",
    "    cwd=project_directory,\n",
    "    config=config,\n",
    "    data_source_factory=ds_factory,\n",
    "    parallel=True,\n",
    "    show_progress=True,\n",
    "    done_callback=None\n",
    ")\n",
    "\n",
    "compiled"
   ]
  },
  {
   "cell_type": "code",
   "execution_count": null,
   "metadata": {},
   "outputs": [],
   "source": []
  }
 ],
 "metadata": {
  "kernelspec": {
   "display_name": "Python 3",
   "language": "python",
   "name": "python3"
  },
  "language_info": {
   "codemirror_mode": {
    "name": "ipython",
    "version": 3
   },
   "file_extension": ".py",
   "mimetype": "text/x-python",
   "name": "python",
   "nbconvert_exporter": "python",
   "pygments_lexer": "ipython3",
   "version": "3.7.4"
  }
 },
 "nbformat": 4,
 "nbformat_minor": 2
}
