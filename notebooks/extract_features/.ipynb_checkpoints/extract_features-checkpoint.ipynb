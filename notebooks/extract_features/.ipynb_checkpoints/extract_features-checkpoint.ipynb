{
 "cells": [
  {
   "cell_type": "code",
   "execution_count": 12,
   "metadata": {},
   "outputs": [],
   "source": [
    "import sys\n",
    "from pathlib import Path"
   ]
  },
  {
   "cell_type": "code",
   "execution_count": 13,
   "metadata": {},
   "outputs": [],
   "source": [
    "project_directory = str(Path('../..').resolve())\n",
    "sys.path.extend([project_directory])"
   ]
  },
  {
   "cell_type": "code",
   "execution_count": 14,
   "metadata": {},
   "outputs": [],
   "source": [
    "from functools import partial\n",
    "from os import getcwd, path"
   ]
  },
  {
   "cell_type": "code",
   "execution_count": 15,
   "metadata": {},
   "outputs": [],
   "source": [
    "from environs import Env\n",
    "import pandas as pd"
   ]
  },
  {
   "cell_type": "code",
   "execution_count": 16,
   "metadata": {},
   "outputs": [],
   "source": [
    "from internal.extract_features.data_sources_factory import data_sources_factory\n",
    "from internal.extract_features.extract_features import extract_features\n",
    "from internal.extract_features.save_features import save_features\n",
    "from src.pkg.config_constants import PRECISION\n",
    "from src.pkg.get_output_dir import get_output_dir\n",
    "from src.pkg.load_config import load_config\n",
    "from src.pkg.load_env import load_env"
   ]
  },
  {
   "cell_type": "code",
   "execution_count": 17,
   "metadata": {},
   "outputs": [],
   "source": [
    "def get_precision(env: Env):\n",
    "    return env.int(PRECISION)"
   ]
  },
  {
   "cell_type": "code",
   "execution_count": 18,
   "metadata": {},
   "outputs": [],
   "source": [
    "cwd = getcwd()\n",
    "process_dir = cwd"
   ]
  },
  {
   "cell_type": "code",
   "execution_count": 19,
   "metadata": {},
   "outputs": [],
   "source": [
    "env = load_env(process_dir)\n",
    "config = load_config(process_dir, env)\n",
    "precision = get_precision(env)\n",
    "output_dir = get_output_dir(project_directory, config)"
   ]
  },
  {
   "cell_type": "code",
   "execution_count": 20,
   "metadata": {},
   "outputs": [],
   "source": [
    "ds_factory = data_sources_factory(project_directory, precision)"
   ]
  },
  {
   "cell_type": "code",
   "execution_count": 21,
   "metadata": {},
   "outputs": [],
   "source": [
    "def print_features(character: str, features: pd.DataFrame):\n",
    "    print('FEATURES FOR CHARACTER {0}'.format(character))\n",
    "    print(features)"
   ]
  },
  {
   "cell_type": "code",
   "execution_count": 24,
   "metadata": {},
   "outputs": [],
   "source": [
    "from internal.extract_features.compile_epochs import compile_epochs\n",
    "from src.features.base.data_source.compile_data_sources import compile_data_sources\n",
    "import src.pkg.config_constants as constants"
   ]
  },
  {
   "cell_type": "code",
   "execution_count": 28,
   "metadata": {},
   "outputs": [
    {
     "data": {
      "text/plain": [
       "{'0': {'MNIST': []},\n",
       " '1': {'MNIST': []},\n",
       " '2': {'MNIST': []},\n",
       " '3': {'MNIST': []},\n",
       " '4': {'MNIST': []},\n",
       " '5': {'MNIST': []},\n",
       " '6': {'MNIST': []},\n",
       " '7': {'MNIST': []},\n",
       " '8': {'MNIST': []},\n",
       " '9': {'MNIST': []}}"
      ]
     },
     "execution_count": 28,
     "metadata": {},
     "output_type": "execute_result"
    }
   ],
   "source": [
    "sources = config[constants.SOURCES]\n",
    "compiled_epochs = compile_epochs(project_directory, sources)\n",
    "compiled_epochs"
   ]
  },
  {
   "cell_type": "code",
   "execution_count": null,
   "metadata": {},
   "outputs": [],
   "source": []
  }
 ],
 "metadata": {
  "kernelspec": {
   "display_name": "Python 3",
   "language": "python",
   "name": "python3"
  },
  "language_info": {
   "codemirror_mode": {
    "name": "ipython",
    "version": 3
   },
   "file_extension": ".py",
   "mimetype": "text/x-python",
   "name": "python",
   "nbconvert_exporter": "python",
   "pygments_lexer": "ipython3",
   "version": "3.7.4"
  }
 },
 "nbformat": 4,
 "nbformat_minor": 2
}
